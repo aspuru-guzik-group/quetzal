{
 "cells": [
  {
   "cell_type": "code",
   "execution_count": null,
   "metadata": {},
   "outputs": [],
   "source": [
    "%load_ext autoreload\n",
    "%autoreload 2"
   ]
  },
  {
   "cell_type": "code",
   "execution_count": null,
   "metadata": {},
   "outputs": [],
   "source": [
    "import sys\n",
    "sys.path.append(\"../..\")\n",
    "import torch\n",
    "import numpy as np\n",
    "from draw import show_traj, make_html\n",
    "import py3Dmol\n",
    "\n",
    "qm9 = torch.load(\"../../samples/gen/ds_qm9_original_rep0/gen.pt\", weights_only=False)\n",
    "geom = torch.load(\"../../samples/gen/ds_geom_original_test201_rep0/gen.pt\", weights_only=False)\n"
   ]
  },
  {
   "cell_type": "code",
   "execution_count": null,
   "metadata": {},
   "outputs": [],
   "source": [
    "b_idx = 0\n",
    "view = py3Dmol.view(width=400, height=400)\n",
    "view = show_traj(qm9[0], b_idx, interval=20, step=1, PCA=True, tailpad=500)\n",
    "view.spin('y',1)\n",
    "make_html(view, \"qm9-0.html\")\n",
    "# view.show()"
   ]
  },
  {
   "cell_type": "code",
   "execution_count": null,
   "metadata": {},
   "outputs": [],
   "source": [
    "for b_idx in range(1, 4):\n",
    "    view = py3Dmol.view(width=400, height=400)\n",
    "    view = show_traj(qm9[0], b_idx, interval=10, step=1, PCA=True, tailpad=500)\n",
    "    view.spin('y',1)\n",
    "    make_html(view, f\"qm9-{b_idx}.html\")\n",
    "    # view.show()"
   ]
  },
  {
   "cell_type": "code",
   "execution_count": null,
   "metadata": {},
   "outputs": [],
   "source": [
    "for b_idx in range(4):\n",
    "    view = py3Dmol.view(width=400, height=400)\n",
    "    view = show_traj(geom[0], b_idx, interval=10, step=4, PCA=True, tailpad=3000)\n",
    "    view.spin('y',1)\n",
    "    view.zoom(0.94)\n",
    "    make_html(view, f\"geom-{b_idx}.html\")\n",
    "    # view.show()"
   ]
  },
  {
   "cell_type": "code",
   "execution_count": null,
   "metadata": {},
   "outputs": [],
   "source": []
  }
 ],
 "metadata": {
  "kernelspec": {
   "display_name": "quetzal",
   "language": "python",
   "name": "python3"
  },
  "language_info": {
   "codemirror_mode": {
    "name": "ipython",
    "version": 3
   },
   "file_extension": ".py",
   "mimetype": "text/x-python",
   "name": "python",
   "nbconvert_exporter": "python",
   "pygments_lexer": "ipython3",
   "version": "3.10.18"
  }
 },
 "nbformat": 4,
 "nbformat_minor": 2
}
