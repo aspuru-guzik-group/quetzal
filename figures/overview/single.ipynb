{
 "cells": [
  {
   "cell_type": "code",
   "execution_count": 1,
   "metadata": {},
   "outputs": [],
   "source": [
    "import sys\n",
    "sys.path.append(\"../..\")\n",
    "from chem import Molecule\n",
    "\n",
    "xyz = \"17\\n\\nC -0.787021 1.131985 0.046816\\nC 0.307097 0.392745 -0.721451\\nO 1.565909 0.552101 -0.035468\\nC 2.240647 -0.679923 0.137526\\nC 1.269961 -1.705058 -0.323504\\nC 0.159104 -1.109401 -0.832807\\nC -1.015214 -1.796530 -1.463974\\nC -2.353541 -1.472953 -1.027897\\nN -3.433856 -1.199573 -0.677016\\nH -0.950976 0.698346 1.034951\\nH -0.463937 2.175823 0.187497\\nH -1.735687 1.138844 -0.498549\\nH 0.369368 0.822627 -1.735493\\nH 3.174709 -0.676563 -0.446318\\nH 2.500030 -0.817485 1.179887\\nH 1.448156 -2.782742 -0.317691\\nH -0.962302 -1.648845 -2.563967\\n\"\n",
    "\n",
    "import py3Dmol\n",
    "view = py3Dmol.view(width=1000, height=1000)\n",
    "view = Molecule.from_xyz(xyz, read_file=False).show(view=view)\n",
    "\n",
    "from draw import make_html\n",
    "make_html(view, \"single.html\")"
   ]
  },
  {
   "cell_type": "code",
   "execution_count": null,
   "metadata": {},
   "outputs": [],
   "source": []
  }
 ],
 "metadata": {
  "kernelspec": {
   "display_name": "dar2",
   "language": "python",
   "name": "python3"
  },
  "language_info": {
   "codemirror_mode": {
    "name": "ipython",
    "version": 3
   },
   "file_extension": ".py",
   "mimetype": "text/x-python",
   "name": "python",
   "nbconvert_exporter": "python",
   "pygments_lexer": "ipython3",
   "version": "3.10.16"
  }
 },
 "nbformat": 4,
 "nbformat_minor": 2
}
